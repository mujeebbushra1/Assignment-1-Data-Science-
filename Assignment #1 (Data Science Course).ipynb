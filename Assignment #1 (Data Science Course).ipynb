{
 "cells": [
  {
   "cell_type": "code",
   "execution_count": 1,
   "id": "0cb7cf7f",
   "metadata": {},
   "outputs": [
    {
     "name": "stdout",
     "output_type": "stream",
     "text": [
      "Twinkle, twinkle, little star, \n",
      "\tHow I wonder what you are! \n",
      "\t\tUp above the world so high, \n",
      "\t\tLike a diamond in the sky. \n",
      "Twinkle, twinkle, little star, \n",
      "\tHow I wonder what you are!\n"
     ]
    }
   ],
   "source": [
    "#Ques no:1 Write a Python program to print the following string in a specific format (see the output). \n",
    "\n",
    "print(\"Twinkle, twinkle, little star, \\n\\tHow I wonder what you are! \\n\\t\\tUp above the world so high, \\n\\t\\tLike a diamond in the sky. \\nTwinkle, twinkle, little star, \\n\\tHow I wonder what you are!\")\n"
   ]
  },
  {
   "cell_type": "code",
   "execution_count": 2,
   "id": "92b5ee87",
   "metadata": {},
   "outputs": [
    {
     "name": "stdout",
     "output_type": "stream",
     "text": [
      "Python version\n",
      "3.8.8 (default, Apr 13 2021, 15:08:07) [MSC v.1916 32 bit (Intel)]\n"
     ]
    }
   ],
   "source": [
    "#Ques no:2 Write a Python program to get the Python version you are using \n",
    "\n",
    "import sys\n",
    "print(\"Python version\")\n",
    "print (sys.version)\n"
   ]
  },
  {
   "cell_type": "code",
   "execution_count": 3,
   "id": "da06f2c2",
   "metadata": {},
   "outputs": [
    {
     "name": "stdout",
     "output_type": "stream",
     "text": [
      "Current date and time : \n",
      "2021-12-31 07:46:35\n"
     ]
    }
   ],
   "source": [
    "#Ques no:3 Write a Python program to display the current date and time.\n",
    "\n",
    "import datetime\n",
    "now = datetime.datetime.now()\n",
    "print (\"Current date and time : \")\n",
    "print (now.strftime(\"%Y-%m-%d %H:%M:%S\"))"
   ]
  },
  {
   "cell_type": "code",
   "execution_count": 4,
   "id": "91bdd539",
   "metadata": {},
   "outputs": [
    {
     "name": "stdout",
     "output_type": "stream",
     "text": [
      "Input the radius of the circle : 78\n",
      "The area of the circle with radius 78.0 is: 19113.4497044403\n"
     ]
    }
   ],
   "source": [
    "#Ques no:4 Write a Python program which accepts the radius of a circle from the user and compute the area.\n",
    "\n",
    "from math import pi\n",
    "r = float(input (\"Input the radius of the circle : \"))\n",
    "print (\"The area of the circle with radius \" + str(r) + \" is: \" + str(pi * r**2))"
   ]
  },
  {
   "cell_type": "code",
   "execution_count": 7,
   "id": "09b99bdb",
   "metadata": {},
   "outputs": [
    {
     "name": "stdout",
     "output_type": "stream",
     "text": [
      "Input your First Name : Bushra\n",
      "Input your Last Name : Mujeeb\n",
      "Mujeeb Bushra\n"
     ]
    }
   ],
   "source": [
    "#Ques no:5 Write a Python program which accepts the user's first and last name and print them in reverse order with a space between them.\n",
    "\n",
    "fname = input(\"Input your First Name : \")\n",
    "lname = input(\"Input your Last Name : \")\n",
    "print (lname + \" \" + fname)"
   ]
  },
  {
   "cell_type": "code",
   "execution_count": 8,
   "id": "6e953557",
   "metadata": {},
   "outputs": [
    {
     "name": "stdout",
     "output_type": "stream",
     "text": [
      "Enter a number: 7\n",
      "Enter a number: 5\n",
      "The sum of 7 and 5 is 12\n"
     ]
    }
   ],
   "source": [
    "#Ques no:6 Write a python program which takes two inputs from user and print them addition \n",
    "\n",
    "num1= int(input(\"Enter a number: \"))\n",
    "num2= int(input(\"Enter a number: \"))\n",
    "\n",
    "sum = num1 + num2\n",
    "print('The sum of {0} and {1} is {2}'.format(num1, num2, sum))"
   ]
  },
  {
   "cell_type": "code",
   "execution_count": null,
   "id": "b917ff13",
   "metadata": {},
   "outputs": [],
   "source": []
  }
 ],
 "metadata": {
  "kernelspec": {
   "display_name": "Python 3",
   "language": "python",
   "name": "python3"
  },
  "language_info": {
   "codemirror_mode": {
    "name": "ipython",
    "version": 3
   },
   "file_extension": ".py",
   "mimetype": "text/x-python",
   "name": "python",
   "nbconvert_exporter": "python",
   "pygments_lexer": "ipython3",
   "version": "3.8.8"
  }
 },
 "nbformat": 4,
 "nbformat_minor": 5
}
